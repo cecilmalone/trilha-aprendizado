{
 "cells": [
  {
   "cell_type": "markdown",
   "metadata": {},
   "source": [
    "## Fácil"
   ]
  },
  {
   "cell_type": "code",
   "execution_count": 1,
   "metadata": {},
   "outputs": [
    {
     "data": {
      "text/plain": [
       "'1.15.4'"
      ]
     },
     "execution_count": 1,
     "metadata": {},
     "output_type": "execute_result"
    }
   ],
   "source": [
    "#1- Importe numpy como ‘np’ e imprima o número da versão.\n",
    "import numpy as np\n",
    "np.__version__"
   ]
  },
  {
   "cell_type": "code",
   "execution_count": 2,
   "metadata": {},
   "outputs": [
    {
     "data": {
      "text/plain": [
       "array([0, 1, 2, 3, 4, 5, 6, 7, 8, 9])"
      ]
     },
     "execution_count": 2,
     "metadata": {},
     "output_type": "execute_result"
    }
   ],
   "source": [
    "#2- Crie uma matriz 1D com números de 0 a 9\n",
    "# Saída desejada:\n",
    "# array([0, 1, 2, 3, 4, 5, 6, 7, 8, 9])\n",
    "matriz1d = np.array([0, 1, 2, 3, 4, 5, 6, 7, 8, 9])\n",
    "\n",
    "matriz1d"
   ]
  },
  {
   "cell_type": "code",
   "execution_count": 21,
   "metadata": {},
   "outputs": [
    {
     "data": {
      "text/plain": [
       "array([[ True,  True,  True],\n",
       "       [ True,  True,  True],\n",
       "       [ True,  True,  True]])"
      ]
     },
     "execution_count": 21,
     "metadata": {},
     "output_type": "execute_result"
    }
   ],
   "source": [
    "#3- Crie uma matriz booleana numpy 3×3 com ‘True’\n",
    "# Saída desejada:\n",
    "# array([[ True, True, True],\n",
    "# [ True, True, True],\n",
    "# [ True, True, True]], dtype=bool)\n",
    "matriz_true = np.array([[True, True, True], [True, True, True], [True, True, True]], dtype=np.bool)\n",
    "\n",
    "matriz_true"
   ]
  },
  {
   "cell_type": "code",
   "execution_count": 23,
   "metadata": {},
   "outputs": [
    {
     "data": {
      "text/plain": [
       "array([1, 3, 5, 7, 9])"
      ]
     },
     "execution_count": 23,
     "metadata": {},
     "output_type": "execute_result"
    }
   ],
   "source": [
    "#4- Extraia todos os números ímpares de ‘arr’\n",
    "arr = np.array([0, 1, 2, 3, 4, 5, 6, 7, 8, 9])\n",
    "#Saída desejada: array([1, 3, 5, 7, 9])\n",
    "impares = arr[arr % 2 != 0]\n",
    "\n",
    "impares"
   ]
  },
  {
   "cell_type": "code",
   "execution_count": 26,
   "metadata": {},
   "outputs": [
    {
     "data": {
      "text/plain": [
       "array([ 0, -1,  2, -1,  4, -1,  6, -1,  8, -1])"
      ]
     },
     "execution_count": 26,
     "metadata": {},
     "output_type": "execute_result"
    }
   ],
   "source": [
    "#5- Substitua todos os números ímpares arr por -1\n",
    "arr = np.array([0, 1, 2, 3, 4, 5, 6, 7, 8, 9])\n",
    "#Saída desejada: array([ 0, -1, 2, -1, 4, -1, 6, -1, 8, -1])\n",
    "arr[arr % 2 != 0] = -1\n",
    "\n",
    "arr"
   ]
  },
  {
   "cell_type": "markdown",
   "metadata": {},
   "source": [
    "## Médio"
   ]
  },
  {
   "cell_type": "code",
   "execution_count": 35,
   "metadata": {},
   "outputs": [
    {
     "name": "stdout",
     "output_type": "stream",
     "text": [
      "[ 0 -1  2 -1  4 -1  6 -1  8 -1]\n"
     ]
    },
    {
     "data": {
      "text/plain": [
       "array([ True,  True,  True,  True,  True,  True,  True,  True,  True,\n",
       "        True])"
      ]
     },
     "execution_count": 35,
     "metadata": {},
     "output_type": "execute_result"
    }
   ],
   "source": [
    "#1- Substitua todos os números ímpares em arr com -1 sem alterar arr\n",
    "arr = np.array([0, 1, 2, 3, 4, 5, 6, 7, 8, 9])\n",
    "#Saída desejada: array([ 0, -1, 2, -1, 4, -1, 6, -1, 8, -1])\n",
    "arr_copy = np.copy(arr)\n",
    "arr_copy[arr_copy % 2 != 0] = -1\n",
    "\n",
    "print(arr_copy)\n",
    "arr == np.array([0, 1, 2, 3, 4, 5, 6, 7, 8, 9])"
   ]
  },
  {
   "cell_type": "code",
   "execution_count": 37,
   "metadata": {},
   "outputs": [
    {
     "name": "stdout",
     "output_type": "stream",
     "text": [
      "[0 1 2 3 4 5 6 7 8 9]\n",
      "[[0 1 2 3 4]\n",
      " [5 6 7 8 9]]\n"
     ]
    }
   ],
   "source": [
    "#2- Converta uma matriz 1D para uma matriz 2D com 2 linhas:\n",
    "matriz1d = np.arange(10)\n",
    "#array([ 0, 1, 2, 3, 4, 5, 6, 7, 8, 9])\n",
    "# Saída desejada:\n",
    "# array([[0, 1, 2, 3, 4],\n",
    "#       [5, 6, 7, 8, 9]])\n",
    "print(matriz1d)\n",
    "matriz2d = np.reshape(matriz1d, (-1, 5))\n",
    "print(matriz2d)"
   ]
  },
  {
   "cell_type": "code",
   "execution_count": 43,
   "metadata": {},
   "outputs": [
    {
     "data": {
      "text/plain": [
       "array([[0, 1, 2, 3, 4],\n",
       "       [5, 6, 7, 8, 9],\n",
       "       [1, 1, 1, 1, 1],\n",
       "       [1, 1, 1, 1, 1]])"
      ]
     },
     "execution_count": 43,
     "metadata": {},
     "output_type": "execute_result"
    }
   ],
   "source": [
    "#3- Empilhe matrizes verticalmente:\n",
    "a = np.arange(10).reshape(2,-1)\n",
    "b = np.repeat(1, 10).reshape(2,-1)\n",
    "# Saída desejada:\n",
    "# array([[0, 1, 2, 3, 4],\n",
    "#        [5, 6, 7, 8, 9],\n",
    "#        [1, 1, 1, 1, 1],\n",
    "#        [1, 1, 1, 1, 1]])\n",
    "np.concatenate((a, b))"
   ]
  },
  {
   "cell_type": "code",
   "execution_count": 44,
   "metadata": {},
   "outputs": [
    {
     "data": {
      "text/plain": [
       "array([[0, 1, 2, 3, 4, 1, 1, 1, 1, 1],\n",
       "       [5, 6, 7, 8, 9, 1, 1, 1, 1, 1]])"
      ]
     },
     "execution_count": 44,
     "metadata": {},
     "output_type": "execute_result"
    }
   ],
   "source": [
    "#4- Empilhe as matrizes horizontalmente:\n",
    "a = np.arange(10).reshape(2,-1)\n",
    "b = np.repeat(1, 10).reshape(2,-1)\n",
    "# Saída desejada:\n",
    "# array([[0, 1, 2, 3, 4, 1, 1, 1, 1, 1],\n",
    "#        [5, 6, 7, 8, 9, 1, 1, 1, 1, 1]])\n",
    "np.concatenate((a, b), axis=1)"
   ]
  },
  {
   "cell_type": "code",
   "execution_count": 51,
   "metadata": {},
   "outputs": [
    {
     "data": {
      "text/plain": [
       "array([1, 1, 1, 2, 2, 2, 3, 3, 3, 1, 1, 1, 2, 2, 2, 3, 3, 3])"
      ]
     },
     "execution_count": 51,
     "metadata": {},
     "output_type": "execute_result"
    }
   ],
   "source": [
    "#5- Crie o seguinte padrão sem codificação, usando apenas funções numpy e a matriz de entrada abaixo ‘a’.\n",
    "a = np.array([1,2,3])\n",
    "# Saída desejada: array([1, 1, 1, 2, 2, 2, 3, 3, 3, 1, 2, 3, 1, 2, 3, 1, 2, 3])\n",
    "np.concatenate((np.repeat(a, 3), np.repeat(a, 3)))"
   ]
  },
  {
   "cell_type": "markdown",
   "metadata": {},
   "source": [
    "## Difícil"
   ]
  },
  {
   "cell_type": "code",
   "execution_count": 57,
   "metadata": {},
   "outputs": [
    {
     "data": {
      "text/plain": [
       "array([0.00221959, 0.00181724, 0.00148783, 0.00134625, 0.00200836,\n",
       "       0.00299613, 0.00134625, 0.00200836, 0.00110221, 0.00181724,\n",
       "       0.00299613, 0.00164431, 0.00164431, 0.00099732, 0.0044697 ,\n",
       "       0.00404435, 0.00299613, 0.00221959, 0.00404435, 0.00221959,\n",
       "       0.00299613, 0.00221959, 0.00134625, 0.00221959, 0.00164431,\n",
       "       0.00200836, 0.00200836, 0.00245302, 0.00245302, 0.00148783,\n",
       "       0.00164431, 0.00299613, 0.00245302, 0.00331123, 0.00181724,\n",
       "       0.00200836, 0.00331123, 0.00181724, 0.00110221, 0.00221959,\n",
       "       0.00200836, 0.00121813, 0.00110221, 0.00200836, 0.00221959,\n",
       "       0.00164431, 0.00221959, 0.00134625, 0.00271101, 0.00200836,\n",
       "       0.01483991, 0.00814432, 0.01342771, 0.00331123, 0.00900086,\n",
       "       0.00404435, 0.00736928, 0.00181724, 0.00994749, 0.00245302,\n",
       "       0.00200836, 0.00493978, 0.0054593 , 0.00603346, 0.00365948,\n",
       "       0.01099368, 0.00365948, 0.0044697 , 0.006668  , 0.00365948,\n",
       "       0.00493978, 0.00603346, 0.00736928, 0.00603346, 0.00814432,\n",
       "       0.00994749, 0.01214989, 0.01099368, 0.0054593 , 0.00404435,\n",
       "       0.00331123, 0.00331123, 0.0044697 , 0.0054593 , 0.00299613,\n",
       "       0.0054593 , 0.01099368, 0.00736928, 0.00365948, 0.00331123,\n",
       "       0.00331123, 0.00603346, 0.0044697 , 0.00200836, 0.00365948,\n",
       "       0.00404435, 0.00404435, 0.006668  , 0.00221959, 0.00404435,\n",
       "       0.00736928, 0.0044697 , 0.01640064, 0.00736928, 0.00900086,\n",
       "       0.02704008, 0.00181724, 0.02003179, 0.01099368, 0.01812551,\n",
       "       0.00900086, 0.00814432, 0.01214989, 0.00404435, 0.0044697 ,\n",
       "       0.00814432, 0.00900086, 0.02988391, 0.02988391, 0.0054593 ,\n",
       "       0.01342771, 0.00365948, 0.02988391, 0.00736928, 0.01099368,\n",
       "       0.01812551, 0.006668  , 0.00603346, 0.00814432, 0.01812551,\n",
       "       0.02213855, 0.0365003 , 0.00814432, 0.00736928, 0.00603346,\n",
       "       0.02988391, 0.00736928, 0.00814432, 0.0054593 , 0.01342771,\n",
       "       0.01099368, 0.01342771, 0.0044697 , 0.01214989, 0.01099368,\n",
       "       0.01099368, 0.00736928, 0.00900086, 0.006668  , 0.00493978])"
      ]
     },
     "execution_count": 57,
     "metadata": {},
     "output_type": "execute_result"
    }
   ],
   "source": [
    "#1- Calcule a pontuação softmax de ‘sepal length’:\n",
    "url = 'https://archive.ics.uci.edu/ml/machine-learning-databases/iris/iris.data'\n",
    "sepallength = np.genfromtxt(url, delimiter=',', dtype='float', usecols=[0])\n",
    "\n",
    "t = 1.0 \n",
    "pont_softmax = np.exp(sepallength * t) / np.sum(np.exp(sepallength * t))\n",
    "pont_softmax"
   ]
  },
  {
   "cell_type": "code",
   "execution_count": 70,
   "metadata": {},
   "outputs": [
    {
     "data": {
      "text/plain": [
       "array([[4.8, 3.4, 1.6, 0.2],\n",
       "       [4.8, 3.4, 1.9, 0.2],\n",
       "       [4.7, 3.2, 1.6, 0.2],\n",
       "       [4.8, 3.1, 1.6, 0.2],\n",
       "       [4.9, 2.4, 3.3, 1. ],\n",
       "       [4.9, 2.5, 4.5, 1.7]])"
      ]
     },
     "execution_count": 70,
     "metadata": {},
     "output_type": "execute_result"
    }
   ],
   "source": [
    "#2- Filtre as linhas de iris_2d que possuem petallength (coluna 3) > 1.5 e sepallength (coluna 1) < 5.0\n",
    "url = 'https://archive.ics.uci.edu/ml/machine-learning-databases/iris/iris.data'\n",
    "iris_2d = np.genfromtxt(url, delimiter=',', dtype='float', usecols=[0,1,2,3])\n",
    "\n",
    "iris_2d = iris_2d[ ((iris_2d[:,2] > 1.5) & (iris_2d[:,0] < 5.0)) ]\n",
    "iris_2d"
   ]
  },
  {
   "cell_type": "code",
   "execution_count": 75,
   "metadata": {},
   "outputs": [
    {
     "data": {
      "text/plain": [
       "array([], dtype=float64)"
      ]
     },
     "execution_count": 75,
     "metadata": {},
     "output_type": "execute_result"
    }
   ],
   "source": [
    "#3- Selecione as linhas de iris_2d que não têm nenhum valor ‘nan’\n",
    "url = 'https://archive.ics.uci.edu/ml/machine-learning-databases/iris/iris.data'\n",
    "iris_2d = np.genfromtxt(url, delimiter=',', dtype='float', usecols=[0,1,2,3])\n",
    "\n",
    "iris_2d = iris_2d[np.isnan(iris_2d)]\n",
    "iris_2d"
   ]
  },
  {
   "cell_type": "markdown",
   "metadata": {},
   "source": [
    "## Muito difícil"
   ]
  },
  {
   "cell_type": "code",
   "execution_count": 76,
   "metadata": {},
   "outputs": [
    {
     "name": "stdout",
     "output_type": "stream",
     "text": [
      "[[ 9  9  4  8  8  1  5  3  6  3]\n",
      " [ 3  3  2  1  9  5  1 10  7  3]\n",
      " [ 5  2  6  4  5  5  4  8  2  2]\n",
      " [ 8  8  1  3 10 10  4  3  6  9]\n",
      " [ 2  1  8  7  3  1  9  3  6  2]\n",
      " [ 9  2  6  5  3  9  4  6  1 10]]\n"
     ]
    }
   ],
   "source": [
    "#1- Calcule as contagens de valores únicos na linha.\n",
    "np.random.seed(100)\n",
    "arr = np.random.randint(1,11,size=(6, 10))\n",
    "print(arr)\n",
    "\n",
    "#array([[ 9, 9, 4, 8, 8, 1, 5, 3, 6, 3],\n",
    "#       [ 3, 3, 2, 1, 9, 5, 1, 10, 7, 3],\n",
    "#       [ 5, 2, 6, 4, 5, 5, 4, 8, 2, 2],\n",
    "#       [ 8, 8, 1, 3, 10, 10, 4, 3, 6, 9],\n",
    "#       [ 2, 1, 8, 7, 3, 1, 9, 3, 6, 2],\n",
    "#       [ 9, 2, 6, 5, 3, 9, 4, 6, 1, 10]])\n",
    "# Saída desejada:\n",
    "# [[1, 0, 2, 1, 1, 1, 0, 2, 2, 0],\n",
    "# [2, 1, 3, 0, 1, 0, 1, 0, 1, 1],\n",
    "# [0, 3, 0, 2, 3, 1, 0, 1, 0, 0],\n",
    "# [1, 0, 2, 1, 0, 1, 0, 2, 1, 2],\n",
    "# [2, 2, 2, 0, 0, 1, 1, 1, 1, 0],\n",
    "# [1, 1, 1, 1, 1, 2, 0, 0, 2, 1]]\n",
    "\n",
    "#A saída contém 10 colunas representando números de 1 a 10. Os valores são as contagens dos números nas respectivas linhas.\n",
    "#Por exemplo, Cell (0,2) tem o valor 2, o que significa que o número 3 ocorre exatamente 2 vezes na primeira linha.\n"
   ]
  },
  {
   "cell_type": "code",
   "execution_count": null,
   "metadata": {},
   "outputs": [],
   "source": [
    "#2- Encontre todos os picos em uma matriz 1D numpy ‘a’. Picos são pontos cercados por valores menores em ambos os lados.\n",
    "a = np.array([1, 3, 7, 1, 2, 6, 0, 1])\n",
    "#Saída desejada:\n",
    "# array([2, 5])\n",
    "# onde, 2 e 5 são as posições dos valores de pico 7 e 6."
   ]
  },
  {
   "cell_type": "code",
   "execution_count": 79,
   "metadata": {},
   "outputs": [
    {
     "name": "stdout",
     "output_type": "stream",
     "text": [
      "[2 3 2 2 2 1]\n"
     ]
    },
    {
     "data": {
      "text/plain": [
       "array([2, 3, 2, 2, 2, 1])"
      ]
     },
     "execution_count": 79,
     "metadata": {},
     "output_type": "execute_result"
    }
   ],
   "source": [
    "#3- Calcule as codificações únicas (variáveis binárias dummy para cada valor único na matriz)\n",
    "\n",
    "np.random.seed(101)\n",
    "arr = np.random.randint(1,4, size=6)\n",
    "print(arr)\n",
    "\n",
    "# Saída desejada:\n",
    "# array([[ 0., 1., 0.],\n",
    "#        [ 0., 0., 1.],\n",
    "#        [ 0., 1., 0.],\n",
    "#        [ 0., 1., 0.],\n",
    "#        [ 0., 1., 0.],\n",
    "#        [ 1., 0., 0.]])\n",
    "arr.T"
   ]
  },
  {
   "cell_type": "code",
   "execution_count": null,
   "metadata": {},
   "outputs": [],
   "source": []
  }
 ],
 "metadata": {
  "kernelspec": {
   "display_name": "Python 3",
   "language": "python",
   "name": "python3"
  },
  "language_info": {
   "codemirror_mode": {
    "name": "ipython",
    "version": 3
   },
   "file_extension": ".py",
   "mimetype": "text/x-python",
   "name": "python",
   "nbconvert_exporter": "python",
   "pygments_lexer": "ipython3",
   "version": "3.6.7"
  }
 },
 "nbformat": 4,
 "nbformat_minor": 2
}
