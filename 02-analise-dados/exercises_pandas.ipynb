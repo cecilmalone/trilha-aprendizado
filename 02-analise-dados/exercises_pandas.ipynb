{
 "cells": [
  {
   "cell_type": "markdown",
   "metadata": {},
   "source": [
    "## Fácil"
   ]
  },
  {
   "cell_type": "code",
   "execution_count": null,
   "metadata": {},
   "outputs": [],
   "source": [
    "1- Importe Pandas e printe a versão\n"
   ]
  },
  {
   "cell_type": "code",
   "execution_count": null,
   "metadata": {},
   "outputs": [],
   "source": [
    "2- Crie uma série panda de cada um dos ítens abaixo: uma lista, numpy e um dicionário\n",
    "\n",
    "import numpy as np\n",
    "minhalista = list(‘abcedfghijklmnopqrstuvwxyz’)\n",
    "meuarr = np.arange(26)\n",
    "meudict = dict(zip(mylist, myarr))"
   ]
  },
  {
   "cell_type": "code",
   "execution_count": null,
   "metadata": {},
   "outputs": [],
   "source": [
    "3- Converta a série “ser” em um dataframe com seu índice como outra coluna no dataframe.\n",
    "minhalista = list(‘abcedfghijklmnopqrstuvwxyz’)\n",
    "meuarr = np.arange(26)\n",
    "meudic = dict(zip(mylist, myarr))\n",
    "ser = pd.Series(mydict)"
   ]
  },
  {
   "cell_type": "code",
   "execution_count": null,
   "metadata": {},
   "outputs": [],
   "source": [
    "4- Combine ‘ser1’ e ‘ser2’ para formar um dataframe\n",
    "import numpy as np\n",
    "ser1 = pd.Series(list(‘abcedfghijklmnopqrstuvwxyz’))\n",
    "ser2 = pd.Series(np.arange(26))"
   ]
  },
  {
   "cell_type": "code",
   "execution_count": null,
   "metadata": {},
   "outputs": [],
   "source": [
    "5- Atribua um nome a série “ser” chamando-a de ‘alfabeto’.\n",
    "ser = pd.Series(list(‘abcedfghijklmnopqrstuvwxyz’))"
   ]
  },
  {
   "cell_type": "markdown",
   "metadata": {},
   "source": [
    "## Médio"
   ]
  },
  {
   "cell_type": "code",
   "execution_count": null,
   "metadata": {},
   "outputs": [],
   "source": [
    "1- Da variável ‘ser’, remova os ítens presentes em ‘ser2’\n",
    "ser1 = pd.Series([1, 2, 3, 4, 5])\n",
    "ser2 = pd.Series([4, 5, 6, 7, 8])"
   ]
  },
  {
   "cell_type": "code",
   "execution_count": null,
   "metadata": {},
   "outputs": [],
   "source": [
    "2- Obtenha todos os ítens de ‘ser1’ e ‘ser2’ não comum a ambos.\n",
    "ser1 = pd.Series([1, 2, 3, 4, 5])\n",
    "ser2 = pd.Series([4, 5, 6, 7, 8])"
   ]
  },
  {
   "cell_type": "code",
   "execution_count": null,
   "metadata": {},
   "outputs": [],
   "source": [
    "3- Calcule o mínimo, 25º percentil, mediana, 75º e o máximo de ‘ser’:\n",
    "ser = pd.Series(np.random.normal(10, 5, 25))"
   ]
  },
  {
   "cell_type": "code",
   "execution_count": null,
   "metadata": {},
   "outputs": [],
   "source": [
    "4- Da variável ‘ser’, matenha os 2 ítens mais frequentes como estão e substitua todo o resto por ‘Outro’.\n",
    "np.random.RandomState(100)\n",
    "ser = pd.Series(np.random.randint(1, 5, [12]))"
   ]
  },
  {
   "cell_type": "code",
   "execution_count": null,
   "metadata": {},
   "outputs": [],
   "source": [
    "5- Coloque a série ‘ser’ em 10 decílios(decile) iguais e substitua os valores pelo nome da bandeja(bin)\n",
    "ser = pd.Series(np.random.random(20))\n",
    "Saída desejada:\n",
    "# Primeiros 5 itens\n",
    "0 7th\n",
    "1 9th\n",
    "2 7th\n",
    "3 3rd\n",
    "4 8th\n",
    "dtype: category\n",
    "Categories (10, object): [1st < 2nd < 3rd < 4th … 7th < 8th < 9th < 10th]"
   ]
  },
  {
   "cell_type": "markdown",
   "metadata": {},
   "source": [
    "## Difícil"
   ]
  },
  {
   "cell_type": "code",
   "execution_count": null,
   "metadata": {},
   "outputs": [],
   "source": [
    "1- Da variável ‘ser’ extraia palavras que contenham 2 vogais ou mais:\n",
    "ser = pd.Series([‘Apple’, ‘Orange’, ‘Plan’, ‘Python’, ‘Money’])\n",
    "\n",
    "Saída desejada:\n",
    "0 Apple\n",
    "1 Orange\n",
    "4 Money\n",
    "dtype: object"
   ]
  },
  {
   "cell_type": "code",
   "execution_count": null,
   "metadata": {},
   "outputs": [],
   "source": [
    "2- Extraia emails válidos da série ’emails’. O padrão de regex para emails válidos é fornecido em ‘padrao’.\n",
    "emails = pd.Series([‘buying books at amazom.com’, ‘rameses@egypt.com’, ‘matt@t.co’, ‘narendra@modi.com’])\n",
    "padrao ='[A-Za-z0-9._%+-]+@[A-Za-z0-9.-]+\\\\.[A-Za-z]{2,4}’\n",
    "1 rameses@egypt.com\n",
    "2 matt@t.co\n",
    "3 narendra@modi.com\n",
    "dtype: object"
   ]
  },
  {
   "cell_type": "code",
   "execution_count": null,
   "metadata": {},
   "outputs": [],
   "source": [
    "3- Obtenha as posições de picos(valores cercados por valores menores em ambos lados) da variável ‘ser’.\n",
    "ser = pd.Series([2, 10, 3, 4, 9, 10, 2, 7, 3])\n",
    "Saída desejada:\n",
    "array([1, 5, 7])"
   ]
  }
 ],
 "metadata": {
  "kernelspec": {
   "display_name": "Python 3",
   "language": "python",
   "name": "python3"
  },
  "language_info": {
   "codemirror_mode": {
    "name": "ipython",
    "version": 3
   },
   "file_extension": ".py",
   "mimetype": "text/x-python",
   "name": "python",
   "nbconvert_exporter": "python",
   "pygments_lexer": "ipython3",
   "version": "3.6.7"
  }
 },
 "nbformat": 4,
 "nbformat_minor": 2
}
